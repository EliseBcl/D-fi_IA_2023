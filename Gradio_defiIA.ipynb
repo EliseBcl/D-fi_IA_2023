{
  "nbformat": 4,
  "nbformat_minor": 0,
  "metadata": {
    "colab": {
      "provenance": []
    },
    "kernelspec": {
      "name": "python3",
      "display_name": "Python 3"
    },
    "language_info": {
      "name": "python"
    },
    "gpuClass": "standard"
  },
  "cells": [
    {
      "cell_type": "markdown",
      "source": [
        "# Gradio\n"
      ],
      "metadata": {
        "id": "Gx3quYIkmx7-"
      }
    },
    {
      "cell_type": "code",
      "execution_count": 1,
      "metadata": {
        "colab": {
          "base_uri": "https://localhost:8080/"
        },
        "id": "Y5m4YdTdmxEg",
        "outputId": "930254ef-82fd-4826-f16a-5164b1d62c15"
      },
      "outputs": [
        {
          "output_type": "stream",
          "name": "stdout",
          "text": [
            "Cloning into 'Defi_IA_2023'...\n",
            "remote: Enumerating objects: 128, done.\u001b[K\n",
            "remote: Counting objects: 100% (128/128), done.\u001b[K\n",
            "remote: Compressing objects: 100% (101/101), done.\u001b[K\n",
            "remote: Total 128 (delta 57), reused 78 (delta 23), pack-reused 0\u001b[K\n",
            "Receiving objects: 100% (128/128), 16.21 MiB | 5.20 MiB/s, done.\n",
            "Resolving deltas: 100% (57/57), done.\n"
          ]
        }
      ],
      "source": [
        "!git clone https://github.com/EliseBcl/Defi_IA_2023.git"
      ]
    },
    {
      "cell_type": "markdown",
      "source": [
        "## Imports"
      ],
      "metadata": {
        "id": "WWnJjiNRpWqL"
      }
    },
    {
      "cell_type": "code",
      "source": [
        "import pandas as pd\n",
        "import numpy as np\n",
        "import matplotlib.pyplot as plt\n",
        "import matplotlib\n",
        "from math import sqrt, log\n",
        "import seaborn as sns\n",
        "from sklearn.preprocessing import scale\n",
        "from pandas.plotting import scatter_matrix\n",
        "from sklearn.decomposition import PCA\n",
        "from sklearn.model_selection import train_test_split  \n",
        "from sklearn.preprocessing import StandardScaler  \n",
        "from collections import Counter\n",
        "from sklearn.datasets import make_classification\n",
        "from sklearn.model_selection import GridSearchCV\n",
        "from sklearn.metrics import roc_curve\n",
        "from sklearn import linear_model\n",
        "from sklearn.metrics import mean_squared_error\n",
        "from sklearn.metrics import r2_score\n",
        "from sklearn.ensemble import RandomForestRegressor\n",
        "from sklearn.datasets import load_iris\n",
        "#from factor_analyzer import FactorAnalyzer\n",
        "from sklearn.feature_extraction import DictVectorizer\n",
        "import xgboost as xgb\n",
        "from xgboost import XGBClassifier\n",
        "from xgboost import plot_importance\n",
        "from xgboost import cv\n",
        "import matplotlib.pyplot as plt\n",
        "plt.rcParams.update({'font.size': 12})\n",
        "\n",
        "#gradio \n",
        "import gradio as gr\n",
        "import random\n",
        "from datasets import load_dataset\n",
        "import shap\n",
        "#save params\n",
        "import pickle"
      ],
      "metadata": {
        "id": "SEpCdpGVm6O6"
      },
      "execution_count": 8,
      "outputs": []
    },
    {
      "cell_type": "markdown",
      "source": [
        "## Fonction de formatage des données"
      ],
      "metadata": {
        "id": "5tqO8Pf9o7TY"
      }
    },
    {
      "cell_type": "markdown",
      "source": [
        "#### Dummies"
      ],
      "metadata": {
        "id": "WNQrPTvDuejs"
      }
    },
    {
      "cell_type": "code",
      "source": [
        "def to_dummies(data_test):\n",
        "  # merge on hotel id\n",
        "  hotels = pd.read_csv('/content/Defi_IA_2023/features_hotels.csv',index_col=0)\n",
        "  hotels = hotels.drop(['city'], axis = 1)\n",
        "  data_test = data_test.join(hotels, on = 'hotel_id')\n",
        "  \n",
        "  # to categorical\n",
        "  data_test['city'] = pd.Categorical(data_test.city)\n",
        "  data_test['language'] = pd.Categorical(data_test.language)\n",
        "  data_test['mobile'] = pd.Categorical(data_test.mobile)\n",
        "  # data_test['avatar_id'] = pd.Categorical(data_test.avatar_id)\n",
        "  data_test['group'] = pd.Categorical(data_test.group)\n",
        "  data_test['brand'] = pd.Categorical(data_test.brand)\n",
        "  data_test['parking'] = pd.Categorical(data_test.parking)\n",
        "  data_test['pool'] = pd.Categorical(data_test.pool)\n",
        "  data_test['children_policy'] = pd.Categorical(data_test.children_policy)\n",
        "\n",
        "  # dummies\n",
        "  liste= ['stock', 'date','order_request', 'mobile', 'parking', 'pool']\n",
        "\n",
        "  X_testDum = pd.get_dummies(data_test[[\"city\",\"language\",\"group\",\"brand\",\"children_policy\"]])\n",
        "  X_testQuant = data_test[liste]\n",
        "  X_test_dum = pd.concat([X_testDum,X_testQuant],axis=1)\n",
        "\n",
        "  return X_test_dum"
      ],
      "metadata": {
        "id": "EbJKAyBwmt_g"
      },
      "execution_count": 9,
      "outputs": []
    },
    {
      "cell_type": "markdown",
      "source": [
        "### Nom des colonnes des train/test sets"
      ],
      "metadata": {
        "id": "dISlnlropbjx"
      }
    },
    {
      "cell_type": "code",
      "source": [
        "col = ['city_amsterdam', 'city_copenhagen', 'city_madrid', 'city_paris',\n",
        "       'city_rome', 'city_sofia', 'city_valletta', 'city_vienna',\n",
        "       'city_vilnius', 'language_austrian', 'language_belgian',\n",
        "       'language_bulgarian', 'language_croatian', 'language_cypriot',\n",
        "       'language_czech', 'language_danish', 'language_dutch',\n",
        "       'language_estonian', 'language_finnish', 'language_french',\n",
        "       'language_german', 'language_greek', 'language_hungarian',\n",
        "       'language_irish', 'language_italian', 'language_latvian',\n",
        "       'language_lithuanian', 'language_luxembourgish', 'language_maltese',\n",
        "       'language_polish', 'language_portuguese', 'language_romanian',\n",
        "       'language_slovakian', 'language_slovene', 'language_spanish',\n",
        "       'language_swedish', 'group_Accar Hotels', 'group_Boss Western',\n",
        "       'group_Chillton Worldwide', 'group_Independant',\n",
        "       'group_Morriott International', 'group_Yin Yang', 'brand_8 Premium',\n",
        "       'brand_Ardisson', 'brand_Boss Western', 'brand_Chill Garden Inn',\n",
        "       'brand_Corlton', 'brand_CourtYord', 'brand_Ibas', 'brand_Independant',\n",
        "       'brand_J.Halliday Inn', 'brand_Marcure', 'brand_Morriot',\n",
        "       'brand_Navatel', 'brand_Quadrupletree', 'brand_Royal Lotus',\n",
        "       'brand_Safitel', 'brand_Tripletree', 'children_policy_0',\n",
        "       'children_policy_1', 'children_policy_2', 'stock', 'date',\n",
        "       'order_request', 'mobile', 'parking', 'pool']"
      ],
      "metadata": {
        "id": "D_iT1mteunKZ"
      },
      "execution_count": 10,
      "outputs": []
    },
    {
      "cell_type": "markdown",
      "source": [
        "## Chargement du model pré-entrainé"
      ],
      "metadata": {
        "id": "AntqL1pBpNUk"
      }
    },
    {
      "cell_type": "code",
      "source": [
        "# load the model\n",
        "xgb_model_loaded = pickle.load(open('/content/Defi_IA_2023/model_gbmOpt_mat4.pkl', \"rb\"))"
      ],
      "metadata": {
        "id": "Dx0iG__UXOce"
      },
      "execution_count": 11,
      "outputs": []
    },
    {
      "cell_type": "markdown",
      "source": [
        "## Fonction de prédiction du nouvelle individu"
      ],
      "metadata": {
        "id": "mLETobsGpl5f"
      }
    },
    {
      "cell_type": "code",
      "source": [
        "hotels = pd.read_csv('/content/Defi_IA_2023/features_hotels.csv',index_col=0)"
      ],
      "metadata": {
        "id": "Nn2EjxAuq-Z4"
      },
      "execution_count": 12,
      "outputs": []
    },
    {
      "cell_type": "code",
      "source": [
        "def predict_new_indiv(language,city,date,mobile,order_requests,stock,hotel_id):\n",
        "    avatar_id = 1\n",
        "    test = pd.DataFrame(np.array([language,city,date,mobile,order_requests,avatar_id,stock,hotel_id])).T\n",
        "    test.columns = ['language','city','date','mobile','order_request','stock','avatar_id','hotel_id']\n",
        "\n",
        "    if hotel_id not in np.unique(hotels[hotels.city == city].index):\n",
        "      return \"choose an hotel_id in the following list : \" + str(np.unique(hotels[hotels.city == city].index))\n",
        "\n",
        "    else:\n",
        "      test.date = test.date.astype('int64')\n",
        "      test.mobile = test.mobile.astype('int64')\n",
        "      test.order_request = test.order_request.astype('int64')\n",
        "      test.stock = test.stock.astype('int64')\n",
        "      test.hotel_id = test.hotel_id.astype('int64')\n",
        "\n",
        "      individu = to_dummies(test)\n",
        "      #convert the stock\n",
        "      Xtest = pd.read_csv('/content/Defi_IA_2023/test_set.csv',index_col=0)\n",
        "      X = Xtest.stock\n",
        "      mean_stock = np.mean(np.array(np.log(X+0.001)))\n",
        "      std_stock = np.std(np.array(np.log(X+0.001)))\n",
        "      individu.stock = (np.array(np.sqrt(individu.stock+0.001))- mean_stock)/std_stock\n",
        "\n",
        "      #same format as train/test sets\n",
        "      testset = pd.read_csv('/content/Defi_IA_2023/testset.csv',index_col=0)\n",
        "      all = pd.DataFrame([np.zeros(67, dtype=float)], columns=testset.columns)\n",
        "      all[individu.columns] = individu.values\n",
        "\n",
        "      pred = xgb_model_loaded.predict(all)\n",
        "      result = np.exp(pred) - 0.001\n",
        "      return \"price per nigth \" + str(np.round(result[0],0)) + \" euros\""
      ],
      "metadata": {
        "id": "LyWDVEW5dhq4"
      },
      "execution_count": 13,
      "outputs": []
    },
    {
      "cell_type": "markdown",
      "source": [
        "## Gradio interface"
      ],
      "metadata": {
        "id": "jdjHcIfCp51F"
      }
    },
    {
      "cell_type": "code",
      "source": [
        "in1 = gr.inputs.Dropdown(choices=['romanian', 'swedish', 'maltese', 'belgian', 'luxembourgish',\n",
        "       'dutch', 'french', 'finnish', 'austrian', 'slovakian', 'hungarian',\n",
        "       'bulgarian', 'danish', 'greek', 'croatian', 'polish', 'german',\n",
        "       'spanish', 'estonian', 'lithuanian', 'cypriot', 'latvian', 'irish',\n",
        "       'italian', 'slovene', 'czech', 'portuguese'])\n",
        "in2 = gr.inputs.Dropdown(choices=['paris', 'copenhagen', 'madrid', 'rome', 'sofia', 'vilnius', 'vienna', 'amsterdam', 'valletta'])\n",
        "in3 = gr.Slider(minimum=0, maximum=40, step=1) #date\n",
        "in4 = gr.Slider(minimum=0, maximum=1, step=1) #mobile\n",
        "in5 = gr.Slider(minimum=0, maximum=10, step=1) #order_request\n",
        "in6 = gr.Slider(minimum=0, maximum=199, step=1) #stock\n",
        "in7 = gr.Slider(minimum=0, maximum=999, step=1) #hotel_id\n",
        "\n",
        "app = gr.Interface(fn=predict_new_indiv, inputs=[in1, in2, in3, in4, in5, in6, in7], outputs=\"text\")\n",
        "\n",
        "app.launch()"
      ],
      "metadata": {
        "colab": {
          "base_uri": "https://localhost:8080/",
          "height": 650
        },
        "id": "YL2f-Lgapzba",
        "outputId": "5e26c09e-a48b-444f-89d4-f4a159926702"
      },
      "execution_count": 14,
      "outputs": [
        {
          "output_type": "stream",
          "name": "stderr",
          "text": [
            "Usage of gradio.inputs is deprecated, and will not be supported in the future, please import your component from gradio.components\n",
            "`optional` parameter is deprecated, and it has no effect\n"
          ]
        },
        {
          "output_type": "stream",
          "name": "stdout",
          "text": [
            "Colab notebook detected. To show errors in colab notebook, set debug=True in launch()\n",
            "Note: opening Chrome Inspector may crash demo inside Colab notebooks.\n",
            "\n",
            "To create a public link, set `share=True` in `launch()`.\n"
          ]
        },
        {
          "output_type": "display_data",
          "data": {
            "text/plain": [
              "<IPython.core.display.Javascript object>"
            ],
            "application/javascript": [
              "(async (port, path, width, height, cache, element) => {\n",
              "                        if (!google.colab.kernel.accessAllowed && !cache) {\n",
              "                            return;\n",
              "                        }\n",
              "                        element.appendChild(document.createTextNode(''));\n",
              "                        const url = await google.colab.kernel.proxyPort(port, {cache});\n",
              "\n",
              "                        const external_link = document.createElement('div');\n",
              "                        external_link.innerHTML = `\n",
              "                            <div style=\"font-family: monospace; margin-bottom: 0.5rem\">\n",
              "                                Running on <a href=${new URL(path, url).toString()} target=\"_blank\">\n",
              "                                    https://localhost:${port}${path}\n",
              "                                </a>\n",
              "                            </div>\n",
              "                        `;\n",
              "                        element.appendChild(external_link);\n",
              "\n",
              "                        const iframe = document.createElement('iframe');\n",
              "                        iframe.src = new URL(path, url).toString();\n",
              "                        iframe.height = height;\n",
              "                        iframe.allow = \"autoplay; camera; microphone; clipboard-read; clipboard-write;\"\n",
              "                        iframe.width = width;\n",
              "                        iframe.style.border = 0;\n",
              "                        element.appendChild(iframe);\n",
              "                    })(7860, \"/\", \"100%\", 500, false, window.element)"
            ]
          },
          "metadata": {}
        },
        {
          "output_type": "execute_result",
          "data": {
            "text/plain": []
          },
          "metadata": {},
          "execution_count": 14
        }
      ]
    },
    {
      "cell_type": "code",
      "source": [],
      "metadata": {
        "id": "vC8mmDKErxN4"
      },
      "execution_count": null,
      "outputs": []
    }
  ]
}